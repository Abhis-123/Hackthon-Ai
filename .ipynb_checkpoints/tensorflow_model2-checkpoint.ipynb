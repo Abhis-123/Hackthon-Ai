{
 "cells": [
  {
   "cell_type": "code",
   "execution_count": 1,
   "metadata": {},
   "outputs": [],
   "source": [
    "import pandas as pd , numpy as np\n",
    "from sklearn.utils import resample\n",
    "from sklearn.preprocessing import StandardScaler , MinMaxScaler\n",
    "from collections import Counter\n",
    "from scipy import stats\n",
    "import matplotlib.pyplot as plt\n",
    "import seaborn as sns\n",
    "import plotly.express as px\n",
    "import plotly.figure_factory as ff\n",
    "import plotly\n",
    "#Classifiers\n",
    "from sklearn.ensemble import AdaBoostClassifier , GradientBoostingClassifier , VotingClassifier , RandomForestClassifier\n",
    "# from sklearn.linear_model import LogisticRegression , RidgeClassifier\n",
    "# from sklearn.discriminant_analysis import LinearDiscriminantAnalysis\n",
    "# from sklearn.model_selection import RepeatedStratifiedKFold\n",
    "# from sklearn.neighbors import KNeighborsClassifier\n",
    "# from sklearn.model_selection import GridSearchCV\n",
    "#Model evaluation tools\n",
    "from sklearn.metrics import classification_report , accuracy_score , confusion_matrix\n",
    "from sklearn.metrics import accuracy_score,f1_score\n",
    "from sklearn.model_selection import cross_val_score\n",
    "from sklearn.metrics import roc_auc_score,roc_curve\n",
    "#Data processing functions\n",
    "from sklearn.preprocessing import StandardScaler\n",
    "from sklearn.model_selection import train_test_split\n",
    "from sklearn import model_selection\n",
    "from sklearn.preprocessing import LabelEncoder\n",
    "le = LabelEncoder()"
   ]
  },
  {
   "cell_type": "code",
   "execution_count": 3,
   "metadata": {},
   "outputs": [],
   "source": [
    "data=pd.read_csv('Training Data.csv')\n",
    "output=pd.read_csv('Test Data.csv')\n",
    "data=pd.concat([data,output])\n",
    "data=data.sort_values(by='income')\n",
    "data[\"married\"] = le.fit_transform(data[\"married\"])\n",
    "data[\"house_ownership\"] = le.fit_transform(data[\"house_ownership\"])\n",
    "data[\"car_ownership\"] = le.fit_transform(data[\"car_ownership\"])\n",
    "data[\"profession\"] = le.fit_transform(data[\"profession\"])\n",
    "data[\"city\"] = le.fit_transform(data[\"city\"])\n",
    "data[\"state\"] = le.fit_transform(data[\"state\"])\n",
    "#train_data=train_data.sort_values(by='Id')"
   ]
  },
  {
   "cell_type": "code",
   "execution_count": 4,
   "metadata": {},
   "outputs": [],
   "source": [
    "def modify(x):\n",
    "  return x*x\n",
    "\n",
    "features=[ 'income', 'age', 'experience', 'married', 'house_ownership',\n",
    "       'car_ownership', 'profession', 'city', 'state', 'current_job_years',\n",
    "       'current_house_years', 'risk_flag',]\n",
    "for feature in features:\n",
    "    data[feature]=data[feature].apply(modify)\n"
   ]
  },
  {
   "cell_type": "code",
   "execution_count": 5,
   "metadata": {},
   "outputs": [],
   "source": [
    "train_data=pd.concat([data[data['risk_flag']==1],data[data['risk_flag']==0]])"
   ]
  },
  {
   "cell_type": "code",
   "execution_count": 6,
   "metadata": {},
   "outputs": [
    {
     "data": {
      "text/html": [
       "<div>\n",
       "<style scoped>\n",
       "    .dataframe tbody tr th:only-of-type {\n",
       "        vertical-align: middle;\n",
       "    }\n",
       "\n",
       "    .dataframe tbody tr th {\n",
       "        vertical-align: top;\n",
       "    }\n",
       "\n",
       "    .dataframe thead th {\n",
       "        text-align: right;\n",
       "    }\n",
       "</style>\n",
       "<table border=\"1\" class=\"dataframe\">\n",
       "  <thead>\n",
       "    <tr style=\"text-align: right;\">\n",
       "      <th></th>\n",
       "      <th>Id</th>\n",
       "      <th>income</th>\n",
       "      <th>age</th>\n",
       "      <th>experience</th>\n",
       "      <th>married</th>\n",
       "      <th>house_ownership</th>\n",
       "      <th>car_ownership</th>\n",
       "      <th>profession</th>\n",
       "      <th>city</th>\n",
       "      <th>state</th>\n",
       "      <th>current_job_years</th>\n",
       "      <th>current_house_years</th>\n",
       "      <th>risk_flag</th>\n",
       "      <th>id</th>\n",
       "    </tr>\n",
       "  </thead>\n",
       "  <tbody>\n",
       "    <tr>\n",
       "      <th>156186</th>\n",
       "      <td>156187.0</td>\n",
       "      <td>113955625</td>\n",
       "      <td>529</td>\n",
       "      <td>1</td>\n",
       "      <td>1</td>\n",
       "      <td>4</td>\n",
       "      <td>1</td>\n",
       "      <td>1681</td>\n",
       "      <td>15625</td>\n",
       "      <td>784</td>\n",
       "      <td>1</td>\n",
       "      <td>196</td>\n",
       "      <td>1.0</td>\n",
       "      <td>NaN</td>\n",
       "    </tr>\n",
       "    <tr>\n",
       "      <th>129263</th>\n",
       "      <td>129264.0</td>\n",
       "      <td>113955625</td>\n",
       "      <td>529</td>\n",
       "      <td>1</td>\n",
       "      <td>1</td>\n",
       "      <td>4</td>\n",
       "      <td>1</td>\n",
       "      <td>1681</td>\n",
       "      <td>15625</td>\n",
       "      <td>784</td>\n",
       "      <td>1</td>\n",
       "      <td>196</td>\n",
       "      <td>1.0</td>\n",
       "      <td>NaN</td>\n",
       "    </tr>\n",
       "    <tr>\n",
       "      <th>91428</th>\n",
       "      <td>91429.0</td>\n",
       "      <td>113955625</td>\n",
       "      <td>529</td>\n",
       "      <td>1</td>\n",
       "      <td>1</td>\n",
       "      <td>4</td>\n",
       "      <td>1</td>\n",
       "      <td>1681</td>\n",
       "      <td>15625</td>\n",
       "      <td>784</td>\n",
       "      <td>1</td>\n",
       "      <td>196</td>\n",
       "      <td>1.0</td>\n",
       "      <td>NaN</td>\n",
       "    </tr>\n",
       "    <tr>\n",
       "      <th>96843</th>\n",
       "      <td>96844.0</td>\n",
       "      <td>113955625</td>\n",
       "      <td>529</td>\n",
       "      <td>1</td>\n",
       "      <td>1</td>\n",
       "      <td>4</td>\n",
       "      <td>1</td>\n",
       "      <td>1681</td>\n",
       "      <td>15625</td>\n",
       "      <td>784</td>\n",
       "      <td>1</td>\n",
       "      <td>196</td>\n",
       "      <td>1.0</td>\n",
       "      <td>NaN</td>\n",
       "    </tr>\n",
       "    <tr>\n",
       "      <th>53605</th>\n",
       "      <td>53606.0</td>\n",
       "      <td>113955625</td>\n",
       "      <td>529</td>\n",
       "      <td>1</td>\n",
       "      <td>1</td>\n",
       "      <td>4</td>\n",
       "      <td>1</td>\n",
       "      <td>1681</td>\n",
       "      <td>15625</td>\n",
       "      <td>784</td>\n",
       "      <td>1</td>\n",
       "      <td>196</td>\n",
       "      <td>1.0</td>\n",
       "      <td>NaN</td>\n",
       "    </tr>\n",
       "  </tbody>\n",
       "</table>\n",
       "</div>"
      ],
      "text/plain": [
       "              Id     income  age  experience  married  house_ownership  \\\n",
       "156186  156187.0  113955625  529           1        1                4   \n",
       "129263  129264.0  113955625  529           1        1                4   \n",
       "91428    91429.0  113955625  529           1        1                4   \n",
       "96843    96844.0  113955625  529           1        1                4   \n",
       "53605    53606.0  113955625  529           1        1                4   \n",
       "\n",
       "        car_ownership  profession   city  state  current_job_years  \\\n",
       "156186              1        1681  15625    784                  1   \n",
       "129263              1        1681  15625    784                  1   \n",
       "91428               1        1681  15625    784                  1   \n",
       "96843               1        1681  15625    784                  1   \n",
       "53605               1        1681  15625    784                  1   \n",
       "\n",
       "        current_house_years  risk_flag  id  \n",
       "156186                  196        1.0 NaN  \n",
       "129263                  196        1.0 NaN  \n",
       "91428                   196        1.0 NaN  \n",
       "96843                   196        1.0 NaN  \n",
       "53605                   196        1.0 NaN  "
      ]
     },
     "execution_count": 6,
     "metadata": {},
     "output_type": "execute_result"
    }
   ],
   "source": [
    "train_data.head(5)"
   ]
  },
  {
   "cell_type": "code",
   "execution_count": 165,
   "metadata": {},
   "outputs": [],
   "source": [
    "output=data[data['id']<30000]"
   ]
  },
  {
   "cell_type": "code",
   "execution_count": 166,
   "metadata": {},
   "outputs": [
    {
     "data": {
      "text/plain": [
       "28000"
      ]
     },
     "execution_count": 166,
     "metadata": {},
     "output_type": "execute_result"
    }
   ],
   "source": [
    "len(output)"
   ]
  },
  {
   "cell_type": "code",
   "execution_count": 167,
   "metadata": {},
   "outputs": [
    {
     "data": {
      "text/plain": [
       "252000"
      ]
     },
     "execution_count": 167,
     "metadata": {},
     "output_type": "execute_result"
    }
   ],
   "source": [
    "len(train_data)"
   ]
  },
  {
   "cell_type": "code",
   "execution_count": 172,
   "metadata": {},
   "outputs": [],
   "source": [
    "p=train_data[train_data['risk_flag']==1][:20000]\n",
    "q=train_data[train_data['risk_flag']==0][:20000]\n",
    "test_data=pd.concat([p,q])\n",
    "test_data=test_data.sort_values(by='Id').copy()"
   ]
  },
  {
   "cell_type": "code",
   "execution_count": 169,
   "metadata": {},
   "outputs": [
    {
     "data": {
      "text/plain": [
       "Index(['age', 'experience', 'married', 'house_ownership', 'car_ownership',\n",
       "       'profession', 'city', 'state', 'current_job_years',\n",
       "       'current_house_years', 'risk_flag', 'Id', 'id', 'income'],\n",
       "      dtype='object')"
      ]
     },
     "execution_count": 169,
     "metadata": {},
     "output_type": "execute_result"
    }
   ],
   "source": [
    "train_data.columns"
   ]
  },
  {
   "cell_type": "code",
   "execution_count": 195,
   "metadata": {},
   "outputs": [
    {
     "name": "stdout",
     "output_type": "stream",
     "text": [
      "=================================================================================\n",
      "training  45000\n",
      "              precision    recall  f1-score   support\n",
      "\n",
      "         0.0       0.94      1.00      0.97     13172\n",
      "         1.0       1.00      0.97      0.99     31828\n",
      "\n",
      "    accuracy                           0.98     45000\n",
      "   macro avg       0.97      0.99      0.98     45000\n",
      "weighted avg       0.98      0.98      0.98     45000\n",
      "\n",
      "              precision    recall  f1-score   support\n",
      "\n",
      "         0.0       0.94      1.00      0.97     18725\n",
      "         1.0       1.00      0.94      0.97     21275\n",
      "\n",
      "    accuracy                           0.97     40000\n",
      "   macro avg       0.97      0.97      0.97     40000\n",
      "weighted avg       0.97      0.97      0.97     40000\n",
      "\n",
      "RandomForestClassifier:> 0.968125\n",
      "roc_auc 0.988775475\n",
      "=================================================================================\n",
      "training  48000\n",
      "              precision    recall  f1-score   support\n",
      "\n",
      "         0.0       0.94      1.00      0.97     15958\n",
      "         1.0       1.00      0.97      0.98     32042\n",
      "\n",
      "    accuracy                           0.98     48000\n",
      "   macro avg       0.97      0.98      0.98     48000\n",
      "weighted avg       0.98      0.98      0.98     48000\n",
      "\n",
      "              precision    recall  f1-score   support\n",
      "\n",
      "         0.0       0.94      1.00      0.97     18731\n",
      "         1.0       1.00      0.94      0.97     21269\n",
      "\n",
      "    accuracy                           0.97     40000\n",
      "   macro avg       0.97      0.97      0.97     40000\n",
      "weighted avg       0.97      0.97      0.97     40000\n",
      "\n",
      "RandomForestClassifier:> 0.968275\n",
      "roc_auc 0.98970121375\n",
      "=================================================================================\n",
      "training  50000\n",
      "              precision    recall  f1-score   support\n",
      "\n",
      "         0.0       0.94      1.00      0.97     17807\n",
      "         1.0       1.00      0.96      0.98     32193\n",
      "\n",
      "    accuracy                           0.98     50000\n",
      "   macro avg       0.97      0.98      0.97     50000\n",
      "weighted avg       0.98      0.98      0.98     50000\n",
      "\n",
      "              precision    recall  f1-score   support\n",
      "\n",
      "         0.0       0.94      1.00      0.97     18732\n",
      "         1.0       1.00      0.94      0.97     21268\n",
      "\n",
      "    accuracy                           0.97     40000\n",
      "   macro avg       0.97      0.97      0.97     40000\n",
      "weighted avg       0.97      0.97      0.97     40000\n",
      "\n",
      "RandomForestClassifier:> 0.9683\n",
      "roc_auc 0.9901865925\n",
      "=================================================================================\n",
      "training  52000\n",
      "              precision    recall  f1-score   support\n",
      "\n",
      "         0.0       0.94      1.00      0.97     19652\n",
      "         1.0       1.00      0.96      0.98     32348\n",
      "\n",
      "    accuracy                           0.97     52000\n",
      "   macro avg       0.97      0.98      0.97     52000\n",
      "weighted avg       0.98      0.97      0.97     52000\n",
      "\n",
      "              precision    recall  f1-score   support\n",
      "\n",
      "         0.0       0.94      1.00      0.97     18732\n",
      "         1.0       1.00      0.94      0.97     21268\n",
      "\n",
      "    accuracy                           0.97     40000\n",
      "   macro avg       0.97      0.97      0.97     40000\n",
      "weighted avg       0.97      0.97      0.97     40000\n",
      "\n",
      "RandomForestClassifier:> 0.9683\n",
      "roc_auc 0.990191255\n",
      "=================================================================================\n",
      "training  60000\n",
      "              precision    recall  f1-score   support\n",
      "\n",
      "         0.0       0.92      1.00      0.96     26598\n",
      "         1.0       1.00      0.93      0.96     33402\n",
      "\n",
      "    accuracy                           0.96     60000\n",
      "   macro avg       0.96      0.96      0.96     60000\n",
      "weighted avg       0.96      0.96      0.96     60000\n",
      "\n",
      "              precision    recall  f1-score   support\n",
      "\n",
      "         0.0       0.94      1.00      0.97     18732\n",
      "         1.0       1.00      0.94      0.97     21268\n",
      "\n",
      "    accuracy                           0.97     40000\n",
      "   macro avg       0.97      0.97      0.97     40000\n",
      "weighted avg       0.97      0.97      0.97     40000\n",
      "\n",
      "RandomForestClassifier:> 0.9683\n",
      "roc_auc 0.9894697775000001\n"
     ]
    }
   ],
   "source": [
    "ratios = [50000,51000,52000,53000,54000,55000]\n",
    "\n",
    "for ratio in ratios:\n",
    "    X_train=train_data[['income', 'age', 'experience', 'married', 'house_ownership',\n",
    "           'car_ownership', 'profession', 'city', 'state', 'current_job_years',\n",
    "           'current_house_years']][:ratio]\n",
    "    y_train=train_data['risk_flag'][:ratio]\n",
    "    X_test=test_data[['income', 'age', 'experience', 'married', 'house_ownership',\n",
    "           'car_ownership', 'profession', 'city', 'state', 'current_job_years',\n",
    "           'current_house_years']]\n",
    "    y_test=test_data['risk_flag']\n",
    "    model=RandomForestClassifier(n_estimators=500,random_state=13,n_jobs=-1,max_depth=100,bootstrap=True)\n",
    "    model.fit(X_train,y_train)\n",
    "    print(\"=================================================================================\")\n",
    "    print(\"training \",str(ratio))\n",
    "    print(classification_report(model.predict(X_train),y_train))\n",
    "    y_pred = model.predict(X_test)\n",
    "    print(classification_report(y_pred,y_test))\n",
    "    print(\"RandomForestClassifier:>\",accuracy_score(y_pred,y_test))\n",
    "    y_pred=model.predict_proba(X_test)\n",
    "    roc=roc_auc_score(y_test,y_pred[:,1])\n",
    "    print(\"roc_auc\",roc)\n",
    "    "
   ]
  },
  {
   "cell_type": "code",
   "execution_count": 194,
   "metadata": {},
   "outputs": [],
   "source": [
    "predictions=train_data[['risk_flag','Id']]"
   ]
  },
  {
   "cell_type": "code",
   "execution_count": 190,
   "metadata": {},
   "outputs": [],
   "source": [
    "# ratios = [200000]\n",
    "\n",
    "# #ratios = [35000,38000,40000,42000]\n",
    "# #i=1\n",
    "# model=RandomForestClassifier(n_estimators=500,random_state=13,n_jobs=-1,max_depth=100,bootstrap=True)\n",
    "# for ratio in ratios:\n",
    "#     p=train_data[train_data['risk_flag']==1][:25000]\n",
    "#     q=train_data[train_data['risk_flag']==0][:ratio]\n",
    "#     Train_data=pd.concat([p,q])\n",
    "#     Train_data=Train_data.sort_values(by='income').copy()\n",
    "#     X_train=Train_data[['income', 'age', 'experience', 'married', 'house_ownership',\n",
    "#        'car_ownership', 'profession', 'city', 'state', 'current_job_years',\n",
    "#        'current_house_years']]\n",
    "#     y_train=Train_data['risk_flag']\n",
    "#     X_test=test_data[['income', 'age', 'experience', 'married', 'house_ownership',\n",
    "#            'car_ownership', 'profession', 'city', 'state', 'current_job_years',\n",
    "#            'current_house_years']]\n",
    "#     y_test=test_data['risk_flag'] \n",
    "#     model.fit(X_train,y_train)\n",
    "#     print(\"=================================================================================\")\n",
    "#     print(\"training \",str(ratio))\n",
    "#     print(classification_report(model.predict(X_train),y_train))\n",
    "#     y_pred = model.predict(X_test)\n",
    "#     print(classification_report(y_pred,y_test))\n",
    "#     print(\"RandomForestClassifier:>\",accuracy_score(y_pred,y_test))\n",
    "#     y_pred=model.predict_proba(X_test)\n",
    "#     roc=roc_auc_score(y_test,y_pred[:,1])\n",
    "#     print(\"roc_auc\",roc)\n",
    "    "
   ]
  },
  {
   "cell_type": "code",
   "execution_count": 191,
   "metadata": {},
   "outputs": [],
   "source": [
    "y_pred=model.predict(X_test)"
   ]
  },
  {
   "cell_type": "code",
   "execution_count": 192,
   "metadata": {},
   "outputs": [
    {
     "name": "stdout",
     "output_type": "stream",
     "text": [
      "roc_auc -350- 0.9682999999999999\n"
     ]
    }
   ],
   "source": [
    "roc=roc_auc_score(y_test,y_pred)\n",
    "print(\"roc_auc -350-\" ,roc)"
   ]
  },
  {
   "cell_type": "code",
   "execution_count": 181,
   "metadata": {},
   "outputs": [],
   "source": [
    "output['risk_flag']=model.predict(output[['income', 'age', 'experience', 'married', 'house_ownership',\n",
    "       'car_ownership', 'profession', 'city', 'state', 'current_job_years',\n",
    "       'current_house_years']])"
   ]
  },
  {
   "cell_type": "code",
   "execution_count": 182,
   "metadata": {},
   "outputs": [],
   "source": [
    "output['risk_flag_prob']=model.predict_proba(output[['income', 'age', 'experience', 'married', 'house_ownership',\n",
    "       'car_ownership', 'profession', 'city', 'state', 'current_job_years',\n",
    "       'current_house_years']])[:,1]"
   ]
  },
  {
   "cell_type": "code",
   "execution_count": 188,
   "metadata": {},
   "outputs": [
    {
     "data": {
      "text/plain": [
       "5824"
      ]
     },
     "execution_count": 188,
     "metadata": {},
     "output_type": "execute_result"
    }
   ],
   "source": [
    "threshold=0.6\n",
    "def classify(x):\n",
    "    if x>threshold:\n",
    "        return 1\n",
    "    else:\n",
    "        return 0\n",
    "    \n",
    "\n",
    "output['risk_flag']=output['risk_flag_prob'].apply(classify)\n",
    "submission=output[['id','risk_flag']]\n",
    "len(submission[submission['risk_flag']==1])"
   ]
  },
  {
   "cell_type": "code",
   "execution_count": 189,
   "metadata": {},
   "outputs": [],
   "source": [
    "submission.set_index('id').to_csv('submission3.csv')"
   ]
  },
  {
   "cell_type": "code",
   "execution_count": null,
   "metadata": {},
   "outputs": [],
   "source": [
    "from sklearn.metrics import plot_roc_curve\n",
    "from matplotlib import pyplot as plt"
   ]
  },
  {
   "cell_type": "code",
   "execution_count": null,
   "metadata": {},
   "outputs": [],
   "source": [
    "curve=plot_roc_curve(Model9,X_test,y_test)\n",
    "plt.show()"
   ]
  },
  {
   "cell_type": "code",
   "execution_count": null,
   "metadata": {},
   "outputs": [],
   "source": []
  }
 ],
 "metadata": {
  "kernelspec": {
   "display_name": "Python 3",
   "language": "python",
   "name": "python3"
  },
  "language_info": {
   "codemirror_mode": {
    "name": "ipython",
    "version": 3
   },
   "file_extension": ".py",
   "mimetype": "text/x-python",
   "name": "python",
   "nbconvert_exporter": "python",
   "pygments_lexer": "ipython3",
   "version": "3.8.3"
  }
 },
 "nbformat": 4,
 "nbformat_minor": 4
}
